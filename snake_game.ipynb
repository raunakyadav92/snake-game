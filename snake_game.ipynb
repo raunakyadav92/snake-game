{
  "nbformat": 4,
  "nbformat_minor": 0,
  "metadata": {
    "colab": {
      "provenance": [],
      "authorship_tag": "ABX9TyOdOt2AlOFTejUUXolsv+iT",
      "include_colab_link": true
    },
    "kernelspec": {
      "name": "python3",
      "display_name": "Python 3"
    },
    "language_info": {
      "name": "python"
    }
  },
  "cells": [
    {
      "cell_type": "markdown",
      "metadata": {
        "id": "view-in-github",
        "colab_type": "text"
      },
      "source": [
        "<a href=\"https://colab.research.google.com/github/raunakyadav92/snake-game/blob/main/snake_game.ipynb\" target=\"_parent\"><img src=\"https://colab.research.google.com/assets/colab-badge.svg\" alt=\"Open In Colab\"/></a>"
      ]
    },
    {
      "cell_type": "code",
      "execution_count": null,
      "metadata": {
        "id": "wAe_1AsMstcN"
      },
      "outputs": [],
      "source": [
        "import pygame\n",
        "import sys\n",
        "\n",
        "pygame.init()\n",
        "\n",
        "# Screen Setup\n",
        "WIDTH, HEIGHT = 500, 500\n",
        "TILE_SIZE = 50\n",
        "win = pygame.display.set_mode((WIDTH, HEIGHT))\n",
        "pygame.display.set_caption(\"Maze Runner\")\n",
        "\n",
        "# Colors\n",
        "WHITE = (255, 255, 255)\n",
        "BLACK = (0, 0, 0)\n",
        "PLAYER_COLOR = (0, 255, 0)\n",
        "EXIT_COLOR = (255, 0, 0)\n",
        "\n",
        "# Maze Map (1 = wall, 0 = path)\n",
        "maze = [\n",
        "    [1,1,1,1,1,1,1,1,1,1],\n",
        "    [1,0,0,0,1,0,0,0,0,1],\n",
        "    [1,0,1,0,1,0,1,1,0,1],\n",
        "    [1,0,1,0,0,0,0,1,0,1],\n",
        "    [1,0,1,1,1,1,0,1,0,1],\n",
        "    [1,0,0,0,0,1,0,1,0,1],\n",
        "    [1,1,1,1,0,1,0,1,0,1],\n",
        "    [1,0,0,1,0,0,0,1,0,1],\n",
        "    [1,0,1,1,1,1,0,0,0,1],\n",
        "    [1,1,1,1,1,1,1,1,1,1]\n",
        "]\n",
        "\n",
        "player_pos = [1, 1]\n",
        "exit_pos = [8, 8]\n",
        "\n",
        "# Game Loop\n",
        "run = True\n",
        "clock = pygame.time.Clock()\n",
        "\n",
        "while run:\n",
        "    clock.tick(10)\n",
        "    win.fill(WHITE)\n",
        "\n",
        "    # Draw Maze\n",
        "    for row in range(10):\n",
        "        for col in range(10):\n",
        "            if maze[row][col] == 1:\n",
        "                pygame.draw.rect(win, BLACK, (col * TILE_SIZE, row * TILE_SIZE, TILE_SIZE, TILE_SIZE))\n",
        "\n",
        "    # Draw Exit\n",
        "    pygame.draw.rect(win, EXIT_COLOR, (exit_pos[1]*TILE_SIZE, exit_pos[0]*TILE_SIZE, TILE_SIZE, TILE_SIZE))\n",
        "\n",
        "    # Draw Player\n",
        "    pygame.draw.rect(win, PLAYER_COLOR, (player_pos[1]*TILE_SIZE, player_pos[0]*TILE_SIZE, TILE_SIZE, TILE_SIZE))\n",
        "\n",
        "    # Events\n",
        "    for event in pygame.event.get():\n",
        "        if event.type == pygame.QUIT:\n",
        "            run = False\n",
        "\n",
        "    keys = pygame.key.get_pressed()\n",
        "    if keys[pygame.K_LEFT]:\n",
        "        new_pos = [player_pos[0], player_pos[1]-1]\n",
        "        if maze[new_pos[0]][new_pos[1]] == 0:\n",
        "            player_pos = new_pos\n",
        "    if keys[pygame.K_RIGHT]:\n",
        "        new_pos = [player_pos[0], player_pos[1]+1]\n",
        "        if maze[new_pos[0]][new_pos[1]] == 0:\n",
        "            player_pos = new_pos\n",
        "    if keys[pygame.K_UP]:\n",
        "        new_pos = [player_pos[0]-1, player_pos[1]]\n",
        "        if maze[new_pos[0]][new_pos[1]] == 0:\n",
        "            player_pos = new_pos\n",
        "    if keys[pygame.K_DOWN]:\n",
        "        new_pos = [player_pos[0]+1, player_pos[1]]\n",
        "        if maze[new_pos[0]][new_pos[1]] == 0:\n",
        "            player_pos = new_pos\n",
        "\n",
        "    # Check Win\n",
        "    if player_pos == exit_pos:\n",
        "        print(\"Congratulations! You escaped the maze!\")\n",
        "        pygame.quit()\n",
        "        sys.exit()\n",
        "\n",
        "    pygame.display.update()\n",
        "\n",
        "pygame.quit()\n"
      ]
    }
  ]
}